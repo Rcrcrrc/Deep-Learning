{
  "nbformat": 4,
  "nbformat_minor": 0,
  "metadata": {
    "colab": {
      "provenance": []
    },
    "kernelspec": {
      "name": "python3",
      "display_name": "Python 3"
    },
    "language_info": {
      "name": "python"
    }
  },
  "cells": [
    {
      "cell_type": "code",
      "execution_count": 1,
      "metadata": {
        "id": "zszhFslJts5t"
      },
      "outputs": [],
      "source": [
        "import numpy as np\n",
        "import tensorflow as tf\n",
        "from tensorflow.keras.datasets import cifar10\n",
        "from tensorflow.keras.applications import VGG16\n",
        "from tensorflow.keras.models import Sequential\n",
        "from tensorflow.keras.layers import Flatten, Dense, Dropout\n",
        "from tensorflow.keras.optimizers import Adam\n",
        "from sklearn.model_selection import train_test_split\n",
        "from sklearn.metrics import accuracy_score, classification_report\n"
      ]
    },
    {
      "cell_type": "code",
      "source": [
        "(X_train, y_train), (X_test, y_test) = cifar10.load_data()\n",
        "X_train, X_val, y_train, y_val = train_test_split(X_train, y_train, test_size=0.2, random_state=42)"
      ],
      "metadata": {
        "colab": {
          "base_uri": "https://localhost:8080/"
        },
        "id": "vok7NgzSt0dI",
        "outputId": "f085d2f4-63ef-443f-8481-5fef28c58a28"
      },
      "execution_count": 2,
      "outputs": [
        {
          "output_type": "stream",
          "name": "stdout",
          "text": [
            "Downloading data from https://www.cs.toronto.edu/~kriz/cifar-10-python.tar.gz\n",
            "170498071/170498071 [==============================] - 12s 0us/step\n"
          ]
        }
      ]
    },
    {
      "cell_type": "code",
      "source": [
        "\n",
        "X_train = X_train.astype('float32') / 255.0\n",
        "X_val = X_val.astype('float32') / 255.0\n",
        "X_test = X_test.astype('float32') / 255.0\n",
        ""
      ],
      "metadata": {
        "id": "ZmcefpHLt4K6"
      },
      "execution_count": 4,
      "outputs": []
    },
    {
      "cell_type": "code",
      "source": [
        "base_model = VGG16(weights='imagenet', include_top=False, input_shape=(32, 32, 3))"
      ],
      "metadata": {
        "colab": {
          "base_uri": "https://localhost:8080/"
        },
        "id": "UUUK1Q5Tt65z",
        "outputId": "75167616-81a5-4f63-eca6-ba0d5ef6cb43"
      },
      "execution_count": 5,
      "outputs": [
        {
          "output_type": "stream",
          "name": "stdout",
          "text": [
            "Downloading data from https://storage.googleapis.com/tensorflow/keras-applications/vgg16/vgg16_weights_tf_dim_ordering_tf_kernels_notop.h5\n",
            "58889256/58889256 [==============================] - 3s 0us/step\n"
          ]
        }
      ]
    },
    {
      "cell_type": "code",
      "source": [
        "for layer in base_model.layers:\n",
        "    layer.trainable = False"
      ],
      "metadata": {
        "id": "htkKtqzjt9b5"
      },
      "execution_count": 6,
      "outputs": []
    },
    {
      "cell_type": "code",
      "source": [
        "model = Sequential([\n",
        "    base_model,\n",
        "    Flatten(),\n",
        "    Dense(512, activation='relu'),\n",
        "    Dropout(0.5),\n",
        "    Dense(10, activation='softmax')  # Output layer for 10 classes in CIFAR-10\n",
        "])"
      ],
      "metadata": {
        "id": "0X6hw12vuCOM"
      },
      "execution_count": 7,
      "outputs": []
    },
    {
      "cell_type": "code",
      "source": [
        "model.compile(optimizer=Adam(lr=1e-4), loss='sparse_categorical_crossentropy', metrics=['accuracy'])\n",
        ""
      ],
      "metadata": {
        "colab": {
          "base_uri": "https://localhost:8080/"
        },
        "id": "KXq4J_fouE00",
        "outputId": "dc01adee-c0f7-4ff7-c4cb-95e36d80abfa"
      },
      "execution_count": 8,
      "outputs": [
        {
          "output_type": "stream",
          "name": "stderr",
          "text": [
            "WARNING:absl:`lr` is deprecated in Keras optimizer, please use `learning_rate` or use the legacy optimizer, e.g.,tf.keras.optimizers.legacy.Adam.\n"
          ]
        }
      ]
    },
    {
      "cell_type": "code",
      "source": [
        "history = model.fit(\n",
        "    X_train, y_train,\n",
        "    epochs=10,\n",
        "    batch_size=32,\n",
        "    validation_data=(X_val, y_val),\n",
        "    verbose=1\n",
        ")"
      ],
      "metadata": {
        "colab": {
          "base_uri": "https://localhost:8080/"
        },
        "id": "j7pwKO6uuHX3",
        "outputId": "c2dc312e-16b3-4095-fecb-421476dc480f"
      },
      "execution_count": 9,
      "outputs": [
        {
          "output_type": "stream",
          "name": "stdout",
          "text": [
            "Epoch 1/10\n",
            "1250/1250 [==============================] - 618s 494ms/step - loss: 2.3107 - accuracy: 0.1001 - val_loss: 2.3030 - val_accuracy: 0.0933\n",
            "Epoch 2/10\n",
            "1250/1250 [==============================] - 609s 487ms/step - loss: 2.3028 - accuracy: 0.0983 - val_loss: 2.3029 - val_accuracy: 0.0933\n",
            "Epoch 3/10\n",
            "1250/1250 [==============================] - 607s 486ms/step - loss: 2.3028 - accuracy: 0.0991 - val_loss: 2.3028 - val_accuracy: 0.0933\n",
            "Epoch 4/10\n",
            "1250/1250 [==============================] - 604s 484ms/step - loss: 2.3027 - accuracy: 0.0980 - val_loss: 2.3031 - val_accuracy: 0.0979\n",
            "Epoch 5/10\n",
            "1250/1250 [==============================] - 603s 483ms/step - loss: 2.3028 - accuracy: 0.0989 - val_loss: 2.3029 - val_accuracy: 0.0979\n",
            "Epoch 6/10\n",
            "1250/1250 [==============================] - 607s 485ms/step - loss: 2.3028 - accuracy: 0.0993 - val_loss: 2.3028 - val_accuracy: 0.0933\n",
            "Epoch 7/10\n",
            "1250/1250 [==============================] - 606s 485ms/step - loss: 2.3027 - accuracy: 0.0965 - val_loss: 2.3027 - val_accuracy: 0.0933\n",
            "Epoch 8/10\n",
            "1250/1250 [==============================] - 604s 483ms/step - loss: 2.3028 - accuracy: 0.0999 - val_loss: 2.3027 - val_accuracy: 0.0994\n",
            "Epoch 9/10\n",
            "1250/1250 [==============================] - 605s 484ms/step - loss: 2.3028 - accuracy: 0.0979 - val_loss: 2.3031 - val_accuracy: 0.0933\n",
            "Epoch 10/10\n",
            "1250/1250 [==============================] - 604s 483ms/step - loss: 2.3028 - accuracy: 0.0999 - val_loss: 2.3029 - val_accuracy: 0.0979\n"
          ]
        }
      ]
    },
    {
      "cell_type": "code",
      "source": [],
      "metadata": {
        "id": "yVNW2dzVuJ3v"
      },
      "execution_count": null,
      "outputs": []
    }
  ]
}